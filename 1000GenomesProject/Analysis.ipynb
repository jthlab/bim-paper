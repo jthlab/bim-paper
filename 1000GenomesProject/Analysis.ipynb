{
 "cells": [
  {
   "cell_type": "markdown",
   "metadata": {},
   "source": [
    "<b>Notebooks</b>\n",
    "* `Analysis.ipynb` Main notebook for our data analysis.\n",
    "* `Analysis.ipynb` Main notebook for our data analysis (median centered ones).\n",
    "* `Population_Size_Estimates.ipynb` We infer populaiton size histories to fit $\\beta$-SFS.\n",
    "* `Highlighted_Genes.ipynb` The top 10 most significant segments tables.\n",
    "* `Segmented_genome_scans.ipynb` Used to draw genomescan p-values for each super-population.\n",
    "\n",
    "\n",
    "<b>Folders</b>\n",
    "* `gene_scores` Estimates for each gene\n",
    "* `genome_scan_plots` Plots in the paper\n",
    "* `lags` Estimated Autocorrelation of statistics\n",
    "* `merged` Whole genome scan results for populations\n",
    "* `plots` plots of our results\n",
    "* `raw` Output of our estimators\n",
    "\n",
    "<b>Python scripts</b>\n",
    "* `browser.py` Browser of our results. It can be used to access our detailed results.\n",
    "* `calc_lag.py` Calculates the autocovariance of each stat\n",
    "* `etas.json` Population size estimates for each population. See `Population_Size_Estimates.ipynb`.\n",
    "* `gene_results.txt` Gene annotations\n",
    "* `medianstats.csv` Medians for windowed stats\n",
    "* `meanstats.csv` Means for windowed stats\n",
    "* `popSFS.npy` Genome-wide SFS for each population\n",
    "* `pvalscan.py` Calculates the p values for scan statistics\n",
    "* `segmenter.py` Change Point Detection method\n",
    "* `tools1kg.py` Some useful user functions to analyze 1000 genomes data"
   ]
  },
  {
   "cell_type": "code",
   "execution_count": 1,
   "metadata": {},
   "outputs": [],
   "source": [
    "import pandas as pd\n",
    "from browser import Pops, SPops\n",
    "\n",
    "import numpy as np\n",
    "from tools1kg import path_1000G\n",
    "from tqdm.notebook import trange, tqdm\n",
    "import matplotlib.pyplot as plt\n",
    "import itertools\n",
    "import seaborn as sns\n",
    "from scipy.ndimage import gaussian_filter1d\n",
    "plt.style.use('ggplot')"
   ]
  },
  {
   "cell_type": "code",
   "execution_count": 2,
   "metadata": {},
   "outputs": [],
   "source": [
    "Pops = {i:dict(zip(['pop', 'description'], Pops[i].split('--'))) for i in range(26)}"
   ]
  },
  {
   "cell_type": "code",
   "execution_count": 3,
   "metadata": {},
   "outputs": [],
   "source": [
    "import sys\n",
    "sys.path.append('/home/enes/pyslurm/') # https://github.com/enesdilber/pyslurm/\n",
    "sys.path.append('/home/enes/bim/') # https://github.com/enesdilber/bim/\n",
    "from pyslurm import Slurm\n",
    "from utils import intersect_with_weights"
   ]
  },
  {
   "cell_type": "code",
   "execution_count": 4,
   "metadata": {},
   "outputs": [],
   "source": [
    "Train = False"
   ]
  },
  {
   "cell_type": "code",
   "execution_count": 5,
   "metadata": {},
   "outputs": [],
   "source": [
    "BIM = '/home/enes/bim/BIM.py'\n",
    "locvars = ['Chromosome', 'start', 'end']\n",
    "#sys.path.append(bim_path)"
   ]
  },
  {
   "cell_type": "code",
   "execution_count": 6,
   "metadata": {},
   "outputs": [],
   "source": [
    "slurm = Slurm()\n",
    "srun = slurm.batch('module load python3.8-anaconda/2020.07', \n",
    "                   '#mem-per-cpu=6000',\n",
    "                   '#job-name=\"1kg\"',\n",
    "                   '#time=0-10:00:00',\n",
    "                   '#cpus-per-task=1')"
   ]
  },
  {
   "cell_type": "markdown",
   "metadata": {},
   "source": [
    "## Get statistics\n",
    "Below calculates the several genome scan statistic including btree and bsfs. You should give the `Settings` file. It's a json file and will be red as a python dictionary. Its md5 hash will make sure the results are reproducible."
   ]
  },
  {
   "cell_type": "code",
   "execution_count": 8,
   "metadata": {},
   "outputs": [],
   "source": [
    "SFS = np.load(\"popSFS.npy\", allow_pickle=True).item()\n",
    "N = {i: np.array(SFS[i]).shape[1]+1 for i in range(26)}"
   ]
  },
  {
   "cell_type": "code",
   "execution_count": 29,
   "metadata": {},
   "outputs": [],
   "source": [
    "if Train:\n",
    "    gsettings = ['--eta=etas.json', '--r2t=0.001', '--r2s=0.001', '--tsz=32', '--ssz=16', '--log_pdf=logfr']\n",
    "    jobs = {}\n",
    "    for chrno in range(1, 23):\n",
    "        for popid in range(26):     \n",
    "            \n",
    "            Ni = str(N[popid])\n",
    "            popid = str(popid)\n",
    "            chrno = str(chrno)\n",
    "            job = ' '.join(['python', BIM, path_1000G(chrno), Ni, '--pop='+popid, '--out=raw/'+popid+'_'+chrno+'.csv']+gsettings)\n",
    "            jobs[chrno, popid] = srun.run(job)"
   ]
  },
  {
   "cell_type": "code",
   "execution_count": 47,
   "metadata": {},
   "outputs": [],
   "source": [
    "# for i in range(1,23):\n",
    "#     for j in range(26):\n",
    "#         if slurm.my_job_stats(jobs[str(i), str(j)])['State'] != 'COMPLETED':\n",
    "#             print(i, j)"
   ]
  },
  {
   "cell_type": "markdown",
   "metadata": {},
   "source": [
    "## Merge dataframes\n",
    "Above code will create 26x22 csv files for each population chromosome combination, I will merge them for each population and calculate Neutrality tests."
   ]
  },
  {
   "cell_type": "code",
   "execution_count": 8,
   "metadata": {},
   "outputs": [
    {
     "data": {
      "application/vnd.jupyter.widget-view+json": {
       "model_id": "214a09f195b840c4a459236ce07c3fe8",
       "version_major": 2,
       "version_minor": 0
      },
      "text/plain": [
       "HBox(children=(FloatProgress(value=0.0, max=26.0), HTML(value='')))"
      ]
     },
     "metadata": {},
     "output_type": "display_data"
    },
    {
     "name": "stdout",
     "output_type": "stream",
     "text": [
      "\n"
     ]
    }
   ],
   "source": [
    "z = 0\n",
    "\n",
    "for pop in trange(26):\n",
    "    z += pd.read_csv('merged/'+str(pop)+'.csv').shape[0]"
   ]
  },
  {
   "cell_type": "code",
   "execution_count": 9,
   "metadata": {},
   "outputs": [
    {
     "data": {
      "text/plain": [
       "8914860"
      ]
     },
     "execution_count": 9,
     "metadata": {},
     "output_type": "execute_result"
    }
   ],
   "source": [
    "z"
   ]
  },
  {
   "cell_type": "code",
   "execution_count": 9,
   "metadata": {},
   "outputs": [
    {
     "data": {
      "application/vnd.jupyter.widget-view+json": {
       "model_id": "99bc0e696e8b4c4da6bb118ad2feeef8",
       "version_major": 2,
       "version_minor": 0
      },
      "text/plain": [
       "HBox(children=(FloatProgress(value=0.0, max=26.0), HTML(value='')))"
      ]
     },
     "metadata": {},
     "output_type": "display_data"
    },
    {
     "name": "stdout",
     "output_type": "stream",
     "text": [
      "\n"
     ]
    }
   ],
   "source": [
    "if Train:\n",
    "    def read_and_load(pop, chrno):\n",
    "        df2 = pd.read_csv('raw/'+str(pop)+'_'+str(chrno)+'.csv', comment = '#')\n",
    "        df2.insert(0, \"Chromosome\", chrno)\n",
    "        return df2\n",
    "    for pop in trange(26):\n",
    "        pd.concat([read_and_load(pop, chrno) for chrno in range(1, 23)]).\\\n",
    "        to_csv('merged/'+str(pop)+'.csv', index = False)"
   ]
  },
  {
   "cell_type": "markdown",
   "metadata": {},
   "source": [
    "## Change point detection\n",
    "I will calculate the change points for each statitic and for each population. I will assume a fixed number of windows for each statistic and chromosome which is $n_{cp}=$ `chromosome length/1e7`. This number will give >300 regions along the chromosome, which is roughly the number of beneficial mutations along the genome."
   ]
  },
  {
   "cell_type": "code",
   "execution_count": 82,
   "metadata": {},
   "outputs": [],
   "source": [
    "if Train:\n",
    "    avglen = 1e7\n",
    "    jobs = {}\n",
    "    for pop in range(26):\n",
    "        for chrno in range(1, 23):\n",
    "            job = ' '.join(['python segmenter.py', str(pop), str(chrno),str(avglen), 'raw/'])\n",
    "            jobs[pop, chrno] = srun.run(job)"
   ]
  },
  {
   "cell_type": "markdown",
   "metadata": {},
   "source": [
    "After the jobs are done, I merge them"
   ]
  },
  {
   "cell_type": "code",
   "execution_count": 10,
   "metadata": {},
   "outputs": [
    {
     "data": {
      "application/vnd.jupyter.widget-view+json": {
       "model_id": "f4ddb383206e4a9e9a44c2829f2c899b",
       "version_major": 2,
       "version_minor": 0
      },
      "text/plain": [
       "HBox(children=(FloatProgress(value=0.0, max=26.0), HTML(value='')))"
      ]
     },
     "metadata": {},
     "output_type": "display_data"
    },
    {
     "name": "stdout",
     "output_type": "stream",
     "text": [
      "\n"
     ]
    }
   ],
   "source": [
    "if Train:\n",
    "    \n",
    "    for pop in trange(26):\n",
    "        dfs = []\n",
    "        for chrno in range(1, 23):\n",
    "            path = 'raw/s'+str(pop)+'_'+str(chrno)+'.csv'\n",
    "            dfs.append(pd.read_csv(path))\n",
    "\n",
    "        pd.concat(dfs).to_csv('merged/s'+str(pop)+'.csv', index = False)"
   ]
  },
  {
   "cell_type": "markdown",
   "metadata": {},
   "source": [
    "## Calculate Lag for each population\n",
    "Because of LD all statistics have autocorrelation. In order to calculate avaraged statistic for each region we need the variance of the avaraged statistic. To calculate this variance, we need to take account the autocovariance matrix. Here we calculate it for all statistics and for all populations"
   ]
  },
  {
   "cell_type": "code",
   "execution_count": 57,
   "metadata": {},
   "outputs": [],
   "source": [
    "if Train:\n",
    "\n",
    "    stats = ['SS', 'TajD', 'Colless', 'bsfs', 'btree',\n",
    "             'FulD', 'ZngE', 'FerL', 'FayH']\n",
    "\n",
    "    jobs = []\n",
    "    for stat in stats:\n",
    "        job = 'python calc_lag.py ' + stat + ' 1000 merged'\n",
    "        jobs.append(srun.run(job))"
   ]
  },
  {
   "cell_type": "markdown",
   "metadata": {},
   "source": [
    "## Empirical p-values"
   ]
  },
  {
   "cell_type": "code",
   "execution_count": 12,
   "metadata": {},
   "outputs": [
    {
     "data": {
      "application/vnd.jupyter.widget-view+json": {
       "model_id": "8c84ee3601104de797da40cde9d25b74",
       "version_major": 2,
       "version_minor": 0
      },
      "text/plain": [
       "HBox(children=(FloatProgress(value=0.0, max=26.0), HTML(value='')))"
      ]
     },
     "metadata": {},
     "output_type": "display_data"
    },
    {
     "name": "stdout",
     "output_type": "stream",
     "text": [
      "\n"
     ]
    }
   ],
   "source": [
    "if Train:\n",
    "    \n",
    "    stats = ['SS', 'TajD', 'Colless', 'bsfs', 'btree',\n",
    "             'FulD', 'ZngE', 'FerL', 'FayH']\n",
    "\n",
    "    ann = pd.read_csv('gene_result.txt', sep=\"\\t\")\n",
    "    ann = ann.rename(columns = {'start_position_on_the_genomic_accession': 'start',\n",
    "                                'end_position_on_the_genomic_accession': 'end'})[['chromosome', 'start', 'end', 'Symbol']]\n",
    "    ann = ann[~((ann['chromosome'] == 'X') | ((ann['chromosome'] == 'Y')))]\n",
    "\n",
    "    ann['chromosome'] = ann['chromosome'].astype('int')\n",
    "    ann = ann.sort_values(['chromosome', 'start', 'end']).reset_index(drop = True)\n",
    "\n",
    "    for pop in trange(26):\n",
    "        pop = str(pop)\n",
    "\n",
    "        df = pd.read_csv('merged/s'+pop+'.csv')\n",
    "        df['start'] = df['Chromosome']+(df['start']/1e9)\n",
    "        df['end'] = df['Chromosome']+(df['end']/1e9)\n",
    "\n",
    "        bs = df['start'].to_numpy()\n",
    "        be = df['end'].to_numpy()\n",
    "\n",
    "        cps = (ann['chromosome']+(ann['start']/1e9)).to_numpy()\n",
    "        cpe = (ann['chromosome']+(ann['end']/1e9)).to_numpy()\n",
    "\n",
    "        dx = pd.DataFrame(intersect_with_weights(bs, be, cps, cpe, df[stats].to_numpy()))\n",
    "        for i, stat in enumerate(stats):\n",
    "            dx['ep_'+stat] = [x[i] for x in dx['val']]\n",
    "            dx['ep_'+stat] = dx['ep_'+stat].rank(pct=True)\n",
    "\n",
    "        dx.insert(0,\"Chromosome\", dx['start'].astype('int'))\n",
    "        dx['start'] = np.round(1e9*(dx['start']-dx['Chromosome'])).astype('int')\n",
    "        dx['end'] = np.round(1e9*(dx['end']-dx['Chromosome'])).astype('int')\n",
    "\n",
    "        df = ann.rename(columns={'chromosome':'Chromosome'})\n",
    "        df = df.merge(dx, on = locvars)[locvars+['Symbol']+['ep_'+stat for stat in stats]]\n",
    "        df.to_csv('gene_scores/pop/'+pop+'.csv', index = False)"
   ]
  },
  {
   "cell_type": "markdown",
   "metadata": {},
   "source": [
    "## Stats by the Region"
   ]
  },
  {
   "cell_type": "code",
   "execution_count": 59,
   "metadata": {},
   "outputs": [],
   "source": [
    "genes = [{'Gene':'EDAR', 'pop':0},\n",
    "         {'Gene':'CD5', 'pop':0},\n",
    "         {'Gene':'LCT', 'pop':5},\n",
    "         {'Gene':'SLC45A2', 'pop':5},\n",
    "         {'Gene':'HERC2', 'pop':5},\n",
    "         {'Gene':'SLC24A5', 'pop':5},\n",
    "         {'Gene':'CD36', 'pop':10},\n",
    "         {'Gene':'APOL1', 'pop':10}]"
   ]
  },
  {
   "cell_type": "code",
   "execution_count": 60,
   "metadata": {},
   "outputs": [
    {
     "data": {
      "text/html": [
       "<div>\n",
       "<style scoped>\n",
       "    .dataframe tbody tr th:only-of-type {\n",
       "        vertical-align: middle;\n",
       "    }\n",
       "\n",
       "    .dataframe tbody tr th {\n",
       "        vertical-align: top;\n",
       "    }\n",
       "\n",
       "    .dataframe thead th {\n",
       "        text-align: right;\n",
       "    }\n",
       "</style>\n",
       "<table border=\"1\" class=\"dataframe\">\n",
       "  <thead>\n",
       "    <tr style=\"text-align: right;\">\n",
       "      <th></th>\n",
       "      <th>Gene</th>\n",
       "      <th>pop</th>\n",
       "      <th>Chromosome</th>\n",
       "      <th>start</th>\n",
       "      <th>end</th>\n",
       "      <th>btree</th>\n",
       "      <th>bsfs</th>\n",
       "      <th>TajD</th>\n",
       "      <th>Colless</th>\n",
       "    </tr>\n",
       "  </thead>\n",
       "  <tbody>\n",
       "    <tr>\n",
       "      <th>2</th>\n",
       "      <td>LCT</td>\n",
       "      <td>CEU</td>\n",
       "      <td>2</td>\n",
       "      <td>135787850</td>\n",
       "      <td>135837195</td>\n",
       "      <td>1.0</td>\n",
       "      <td>0.000000</td>\n",
       "      <td>0.000000</td>\n",
       "      <td>1.00</td>\n",
       "    </tr>\n",
       "    <tr>\n",
       "      <th>3</th>\n",
       "      <td>SLC45A2</td>\n",
       "      <td>CEU</td>\n",
       "      <td>5</td>\n",
       "      <td>33944623</td>\n",
       "      <td>33984693</td>\n",
       "      <td>0.8</td>\n",
       "      <td>0.600000</td>\n",
       "      <td>0.400000</td>\n",
       "      <td>0.60</td>\n",
       "    </tr>\n",
       "    <tr>\n",
       "      <th>4</th>\n",
       "      <td>HERC2</td>\n",
       "      <td>CEU</td>\n",
       "      <td>15</td>\n",
       "      <td>28111040</td>\n",
       "      <td>28322179</td>\n",
       "      <td>0.0</td>\n",
       "      <td>0.000000</td>\n",
       "      <td>0.000000</td>\n",
       "      <td>0.05</td>\n",
       "    </tr>\n",
       "    <tr>\n",
       "      <th>5</th>\n",
       "      <td>SLC24A5</td>\n",
       "      <td>CEU</td>\n",
       "      <td>15</td>\n",
       "      <td>48120990</td>\n",
       "      <td>48142672</td>\n",
       "      <td>0.0</td>\n",
       "      <td>0.000000</td>\n",
       "      <td>0.000000</td>\n",
       "      <td>0.00</td>\n",
       "    </tr>\n",
       "    <tr>\n",
       "      <th>0</th>\n",
       "      <td>EDAR</td>\n",
       "      <td>CHB</td>\n",
       "      <td>2</td>\n",
       "      <td>108894471</td>\n",
       "      <td>108989256</td>\n",
       "      <td>1.0</td>\n",
       "      <td>0.428571</td>\n",
       "      <td>0.428571</td>\n",
       "      <td>1.00</td>\n",
       "    </tr>\n",
       "    <tr>\n",
       "      <th>1</th>\n",
       "      <td>CD5</td>\n",
       "      <td>CHB</td>\n",
       "      <td>11</td>\n",
       "      <td>61093963</td>\n",
       "      <td>61127852</td>\n",
       "      <td>0.0</td>\n",
       "      <td>1.000000</td>\n",
       "      <td>1.000000</td>\n",
       "      <td>0.00</td>\n",
       "    </tr>\n",
       "    <tr>\n",
       "      <th>6</th>\n",
       "      <td>CD36</td>\n",
       "      <td>YRI</td>\n",
       "      <td>7</td>\n",
       "      <td>80602207</td>\n",
       "      <td>80679277</td>\n",
       "      <td>0.0</td>\n",
       "      <td>0.000000</td>\n",
       "      <td>0.052632</td>\n",
       "      <td>0.00</td>\n",
       "    </tr>\n",
       "    <tr>\n",
       "      <th>7</th>\n",
       "      <td>APOL1</td>\n",
       "      <td>YRI</td>\n",
       "      <td>22</td>\n",
       "      <td>36253071</td>\n",
       "      <td>36267531</td>\n",
       "      <td>0.0</td>\n",
       "      <td>0.000000</td>\n",
       "      <td>0.000000</td>\n",
       "      <td>0.00</td>\n",
       "    </tr>\n",
       "  </tbody>\n",
       "</table>\n",
       "</div>"
      ],
      "text/plain": [
       "      Gene  pop  Chromosome      start        end  btree      bsfs      TajD  \\\n",
       "2      LCT  CEU           2  135787850  135837195    1.0  0.000000  0.000000   \n",
       "3  SLC45A2  CEU           5   33944623   33984693    0.8  0.600000  0.400000   \n",
       "4    HERC2  CEU          15   28111040   28322179    0.0  0.000000  0.000000   \n",
       "5  SLC24A5  CEU          15   48120990   48142672    0.0  0.000000  0.000000   \n",
       "0     EDAR  CHB           2  108894471  108989256    1.0  0.428571  0.428571   \n",
       "1      CD5  CHB          11   61093963   61127852    0.0  1.000000  1.000000   \n",
       "6     CD36  YRI           7   80602207   80679277    0.0  0.000000  0.052632   \n",
       "7    APOL1  YRI          22   36253071   36267531    0.0  0.000000  0.000000   \n",
       "\n",
       "   Colless  \n",
       "2     1.00  \n",
       "3     0.60  \n",
       "4     0.05  \n",
       "5     0.00  \n",
       "0     1.00  \n",
       "1     0.00  \n",
       "6     0.00  \n",
       "7     0.00  "
      ]
     },
     "execution_count": 60,
     "metadata": {},
     "output_type": "execute_result"
    }
   ],
   "source": [
    "stats = ['btree', 'bsfs', 'TajD', 'Colless']\n",
    "signif = 0.05\n",
    "pop = ''\n",
    "res = []\n",
    "for gene in genes:\n",
    "    \n",
    "    pop = gene['pop']\n",
    "    cur = gene.copy()\n",
    "    cur['pop'] = Pops[pop]['pop']\n",
    "    \n",
    "    df = pd.read_csv('gene_scores/pop/'+str(gene['pop'])+'.csv')    \n",
    "    df = df[df['Symbol'] == gene['Gene']]\n",
    "    df = df[locvars+['ep_'+stat for stat in stats]]\n",
    "    \n",
    "    \n",
    "    cur['Chromosome'] =  df['Chromosome'].iloc[0]\n",
    "    cur['start'] = df['start'].iloc[0]\n",
    "    cur['end'] = df['end'].iloc[-1]\n",
    "    \n",
    "    for stat in stats:\n",
    "        if stat[:7] == 'Colless':\n",
    "            cur[stat] = (df['ep_'+stat]>(1-signif)).mean()        \n",
    "        else:\n",
    "            cur[stat] = (df['ep_'+stat]<signif).mean()        \n",
    "    \n",
    "    res.append(cur)\n",
    "\n",
    "res = pd.DataFrame(res)\n",
    "res.sort_values(['pop', 'Chromosome', 'start'])"
   ]
  },
  {
   "cell_type": "markdown",
   "metadata": {},
   "source": [
    "### Replication of 1000 genomes selection paper"
   ]
  },
  {
   "cell_type": "code",
   "execution_count": 79,
   "metadata": {},
   "outputs": [],
   "source": [
    "st2 = [{'Gene':'EDAR', 'Chromosome':2, 'start':109_510_927, 'end':109_605_828, 'pop':0},\n",
    "       {'Gene':'CD5', 'Chromosome':11,'start':60_869_867, 'end':60_896_324, 'pop':0},\n",
    "       {'Gene':'LCT', 'Chromosome':2,'start':136_545_410, 'end':136_594_750, 'pop':5},\n",
    "       {'Gene':'SLC45A2', 'Chromosome':5,'start':33_944_721, 'end':33_984_835, 'pop':5},\n",
    "       {'Gene':'HERC2', 'Chromosome':15,'start':28_356_186, 'end':28_567_298, 'pop':5},\n",
    "       {'Gene':'SLC24A5', 'Chromosome':15,'start':48_413_169, 'end':48_434_869, 'pop':5},\n",
    "       {'Gene':'CD36', 'Chromosome':7,'start':79_998_891, 'end':80_308_593, 'pop':10},\n",
    "       {'Gene':'APOL1', 'Chromosome':22,'start':36_649_117, 'end':36_663_576, 'pop':10}]"
   ]
  },
  {
   "cell_type": "code",
   "execution_count": 80,
   "metadata": {},
   "outputs": [
    {
     "data": {
      "text/html": [
       "<div>\n",
       "<style scoped>\n",
       "    .dataframe tbody tr th:only-of-type {\n",
       "        vertical-align: middle;\n",
       "    }\n",
       "\n",
       "    .dataframe tbody tr th {\n",
       "        vertical-align: top;\n",
       "    }\n",
       "\n",
       "    .dataframe thead th {\n",
       "        text-align: right;\n",
       "    }\n",
       "</style>\n",
       "<table border=\"1\" class=\"dataframe\">\n",
       "  <thead>\n",
       "    <tr style=\"text-align: right;\">\n",
       "      <th></th>\n",
       "      <th>Gene</th>\n",
       "      <th>Chromosome</th>\n",
       "      <th>start</th>\n",
       "      <th>end</th>\n",
       "      <th>pop</th>\n",
       "      <th>btree</th>\n",
       "      <th>bsfs</th>\n",
       "      <th>TajD</th>\n",
       "      <th>Colless</th>\n",
       "    </tr>\n",
       "  </thead>\n",
       "  <tbody>\n",
       "    <tr>\n",
       "      <th>2</th>\n",
       "      <td>LCT</td>\n",
       "      <td>2</td>\n",
       "      <td>136545410</td>\n",
       "      <td>136594750</td>\n",
       "      <td>CEU</td>\n",
       "      <td>1.000</td>\n",
       "      <td>0.000000</td>\n",
       "      <td>0.000000</td>\n",
       "      <td>1.000000</td>\n",
       "    </tr>\n",
       "    <tr>\n",
       "      <th>3</th>\n",
       "      <td>SLC45A2</td>\n",
       "      <td>5</td>\n",
       "      <td>33944721</td>\n",
       "      <td>33984835</td>\n",
       "      <td>CEU</td>\n",
       "      <td>1.000</td>\n",
       "      <td>1.000000</td>\n",
       "      <td>0.666667</td>\n",
       "      <td>1.000000</td>\n",
       "    </tr>\n",
       "    <tr>\n",
       "      <th>4</th>\n",
       "      <td>HERC2</td>\n",
       "      <td>15</td>\n",
       "      <td>28356186</td>\n",
       "      <td>28567298</td>\n",
       "      <td>CEU</td>\n",
       "      <td>1.000</td>\n",
       "      <td>0.882353</td>\n",
       "      <td>1.000000</td>\n",
       "      <td>1.000000</td>\n",
       "    </tr>\n",
       "    <tr>\n",
       "      <th>5</th>\n",
       "      <td>SLC24A5</td>\n",
       "      <td>15</td>\n",
       "      <td>48413169</td>\n",
       "      <td>48434869</td>\n",
       "      <td>CEU</td>\n",
       "      <td>1.000</td>\n",
       "      <td>1.000000</td>\n",
       "      <td>1.000000</td>\n",
       "      <td>1.000000</td>\n",
       "    </tr>\n",
       "    <tr>\n",
       "      <th>0</th>\n",
       "      <td>EDAR</td>\n",
       "      <td>2</td>\n",
       "      <td>109510927</td>\n",
       "      <td>109605828</td>\n",
       "      <td>CHB</td>\n",
       "      <td>0.600</td>\n",
       "      <td>0.800000</td>\n",
       "      <td>1.000000</td>\n",
       "      <td>0.400000</td>\n",
       "    </tr>\n",
       "    <tr>\n",
       "      <th>1</th>\n",
       "      <td>CD5</td>\n",
       "      <td>11</td>\n",
       "      <td>60869867</td>\n",
       "      <td>60896324</td>\n",
       "      <td>CHB</td>\n",
       "      <td>1.000</td>\n",
       "      <td>0.000000</td>\n",
       "      <td>1.000000</td>\n",
       "      <td>1.000000</td>\n",
       "    </tr>\n",
       "    <tr>\n",
       "      <th>6</th>\n",
       "      <td>CD36</td>\n",
       "      <td>7</td>\n",
       "      <td>79998891</td>\n",
       "      <td>80308593</td>\n",
       "      <td>YRI</td>\n",
       "      <td>0.125</td>\n",
       "      <td>0.053571</td>\n",
       "      <td>0.035714</td>\n",
       "      <td>0.142857</td>\n",
       "    </tr>\n",
       "    <tr>\n",
       "      <th>7</th>\n",
       "      <td>APOL1</td>\n",
       "      <td>22</td>\n",
       "      <td>36649117</td>\n",
       "      <td>36663576</td>\n",
       "      <td>YRI</td>\n",
       "      <td>1.000</td>\n",
       "      <td>1.000000</td>\n",
       "      <td>1.000000</td>\n",
       "      <td>1.000000</td>\n",
       "    </tr>\n",
       "  </tbody>\n",
       "</table>\n",
       "</div>"
      ],
      "text/plain": [
       "      Gene  Chromosome      start        end  pop  btree      bsfs      TajD  \\\n",
       "2      LCT           2  136545410  136594750  CEU  1.000  0.000000  0.000000   \n",
       "3  SLC45A2           5   33944721   33984835  CEU  1.000  1.000000  0.666667   \n",
       "4    HERC2          15   28356186   28567298  CEU  1.000  0.882353  1.000000   \n",
       "5  SLC24A5          15   48413169   48434869  CEU  1.000  1.000000  1.000000   \n",
       "0     EDAR           2  109510927  109605828  CHB  0.600  0.800000  1.000000   \n",
       "1      CD5          11   60869867   60896324  CHB  1.000  0.000000  1.000000   \n",
       "6     CD36           7   79998891   80308593  YRI  0.125  0.053571  0.035714   \n",
       "7    APOL1          22   36649117   36663576  YRI  1.000  1.000000  1.000000   \n",
       "\n",
       "    Colless  \n",
       "2  1.000000  \n",
       "3  1.000000  \n",
       "4  1.000000  \n",
       "5  1.000000  \n",
       "0  0.400000  \n",
       "1  1.000000  \n",
       "6  0.142857  \n",
       "7  1.000000  "
      ]
     },
     "execution_count": 80,
     "metadata": {},
     "output_type": "execute_result"
    }
   ],
   "source": [
    "stats = ['btree', 'bsfs', 'TajD', 'Colless']\n",
    "signif = 0.05\n",
    "pop = ''\n",
    "res = []\n",
    "for st in st2:\n",
    "    \n",
    "    if st['pop'] != pop:\n",
    "        df = pd.read_csv('merged/s'+str(st['pop'])+'.csv').fillna(0)\n",
    "        df = df[locvars+stats]\n",
    "        for stat in stats:\n",
    "            if  stat[:7] == 'Colless':\n",
    "                df[stat] = -df[stat]\n",
    "            df['ep_'+stat] = df[stat].rank(pct=True)<signif        \n",
    "\n",
    "    pop = st['pop']\n",
    "    chrno = st['Chromosome']\n",
    "    rs, re = st['start'], st['end']\n",
    "    \n",
    "    nrs, nre = np.round(rs, -4), np.round(re, -4)\n",
    "    re = np.where(nre>re, nre, nre+1e4).astype('int')\n",
    "    rs = np.where(nrs<rs, nrs, nrs-1e4).astype('int')\n",
    "    \n",
    "    dx = df[df['Chromosome'] == chrno].copy().reset_index(drop = True).copy()\n",
    "    dx = dx[(dx['start']>=rs) & (dx['end']<=re)]\n",
    "    if not dx.shape[0]:\n",
    "        dx = df[df['Chromosome'] == chrno].copy().reset_index(drop = True).copy()\n",
    "        dx = dx[(dx['start']<rs) & (dx['end']>re)]\n",
    "        \n",
    "    \n",
    "    for stat in stats:\n",
    "        st['pop'] = Pops[int(pop)]['pop']\n",
    "        st[stat] = dx['ep_'+stat].mean()\n",
    "    res.append(st)\n",
    "res = pd.DataFrame(res)\n",
    "res.sort_values(['pop', 'Chromosome', 'start'])"
   ]
  },
  {
   "cell_type": "markdown",
   "metadata": {},
   "source": [
    "## Genome-scan p-values\n",
    "Now I plot the genome-scans of all statistics for each population and save the results along with the genes"
   ]
  },
  {
   "cell_type": "code",
   "execution_count": 11,
   "metadata": {},
   "outputs": [],
   "source": [
    "if Train:\n",
    "\n",
    "    stats = ['SS', 'TajD', 'Colless', 'bsfs', 'btree',\n",
    "             'FulD', 'ZngE', 'FerL', 'FayH']\n",
    "\n",
    "    jobs = []\n",
    "    for stat in stats:\n",
    "        for pop in range(26):\n",
    "            job = 'python pvalscan.py ' +str(pop)+' '+ stat \n",
    "            jobs.append(srun.run(job))"
   ]
  }
 ],
 "metadata": {
  "kernelspec": {
   "display_name": "Python 3",
   "language": "python",
   "name": "python3"
  },
  "language_info": {
   "codemirror_mode": {
    "name": "ipython",
    "version": 3
   },
   "file_extension": ".py",
   "mimetype": "text/x-python",
   "name": "python",
   "nbconvert_exporter": "python",
   "pygments_lexer": "ipython3",
   "version": "3.8.3"
  }
 },
 "nbformat": 4,
 "nbformat_minor": 4
}
