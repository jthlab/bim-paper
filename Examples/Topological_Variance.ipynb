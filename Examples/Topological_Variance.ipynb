{
 "cells": [
  {
   "cell_type": "code",
   "execution_count": 1,
   "metadata": {},
   "outputs": [],
   "source": [
    "import sys\n",
    "sys.path.append('/home/enes/bim/')# you should have this package on the sys.path\n",
    "\n",
    "from utils import InferEta, Neutrality_Tests, Colless, intersect_with_weights\n",
    "from Bimbalance import bSFS, bTree, PConst,Pnkb\n",
    "\n",
    "import tskit\n",
    "import numpy as np\n",
    "import pandas as pd\n",
    "import matplotlib.pyplot as plt\n",
    "from time import time\n",
    "import seaborn as sns\n",
    "from tqdm.notebook import tqdm\n",
    "\n",
    "import sys, os\n",
    "sys.path = ['/home/enes/.conda/envs/gene/lib/python3.8/site-packages'] + sys.path\n",
    "import pyslim\n",
    "import numpy as np\n",
    "import msprime as msp\n",
    "from IPython.display import SVG, display\n",
    "\n",
    "plt.style.use('default')\n",
    "\n",
    "import jax.numpy as jnp\n",
    "from jax import lax\n",
    "import jax\n",
    "from jax.scipy.special import gammaln as LG\n",
    "jax.config.update(\"jax_enable_x64\", True)\n",
    "\n",
    "from gmpy2 import mpq\n",
    "import gmpy2\n",
    "gmpy2.get_context().precision = 1000\n",
    "\n",
    "from functools import partial, lru_cache\n",
    "from dataclasses import dataclass\n",
    "import scipy\n",
    "import tskit\n",
    "import re\n",
    "import numpy as np\n",
    "\n",
    "from utils import tree_to_splits\n",
    "\n",
    "def H(n):\n",
    "    i = np.arange(1,n+1)\n",
    "    return np.sum(1/i)\n",
    "\n",
    "@lru_cache(None)\n",
    "def _nc2(N):\n",
    "    return N * (N - 1) // 2\n",
    "\n",
    "@lru_cache(None)\n",
    "def _A(N):\n",
    "    '''\n",
    "    returns A_jk calculated as eq6 @ Polanski\n",
    "\n",
    "    Parameters\n",
    "    ----------\n",
    "    N : int\n",
    "        sample size.\n",
    "\n",
    "    Returns\n",
    "    -------\n",
    "    A : ndarray\n",
    "\n",
    "    '''\n",
    "    A = np.zeros([N - 1, N - 1], dtype=object)\n",
    "    for k in range(2, N + 1):\n",
    "        for j in range(k, N + 1):\n",
    "            A[k - 2, j - 2] = np.prod([mpq(_nc2(ell), _nc2(ell) - _nc2(j)) for ell in range(k, N + 1) if ell != j])\n",
    "    A[N - 2, N - 2] = 1\n",
    "    return A\n",
    "\n",
    "def get_BETmm(eta, N):\n",
    "    j = np.arange(2, N + 1)\n",
    "    k = np.arange(2, N + 1)\n",
    "    A = _A(N)\n",
    "    B = (A * (j * (j - 1))[None, :] / (k - 1)[:, None])\n",
    "    ETmm = [eta.exp_integral(j * (j - 1) // 2) for j in range(2, N + 1)]\n",
    "    BETmm = B @ ETmm        \n",
    "    return BETmm.astype('float')\n",
    "\n",
    "def get_pmf(n, beta):\n",
    "    beta = 2*(jnp.exp(beta)-1)\n",
    "    k = jnp.arange(n+1)\n",
    "    norm = jnp.where(beta>1, np.log(-2**(-2 - 2*beta)*(np.sqrt(np.pi))/(np.sin((beta+n)*np.pi)))+\n",
    "                     LG(-0.5-beta)+LG(1+beta)-LG(-1-2*beta-n)-LG(1+n), 0)\n",
    "\n",
    "    if np.isnan(norm):\n",
    "        norm = jnp.where(beta>1, np.log(2**(-2 - 2*beta)*(np.sqrt(np.pi))/(np.sin((beta+n)*np.pi)))+\n",
    "                         LG(-0.5-beta)+LG(1+beta)-LG(-1-2*beta-n)-LG(1+n), 0)\n",
    "\n",
    "    fx = LG(k+beta+1) + LG(n-k+beta+1) - LG(k+1) - LG(n-k+1)\n",
    "    fx = jnp.exp(fx - norm)\n",
    "    fx = fx[1:-1]\n",
    "    fx = fx/fx.sum()\n",
    "    return fx\n",
    "\n",
    "def Pnkb(N, beta):\n",
    "       \n",
    "    P = np.zeros((N, N))\n",
    "\n",
    "    for n in range(1, N+1):\n",
    "        P[n-1, :(n-1)] = 2*get_pmf(n, beta)\n",
    "    \n",
    "    P = P - jnp.identity(N)\n",
    "    \n",
    "    State = jnp.zeros(N)\n",
    "    State = jax.ops.index_update(State, jax.ops.index[N-1], 1)\n",
    "    lins = jnp.arange(N)\n",
    "    State = State.reshape(1, N)\n",
    "       \n",
    "    mean_ling = jnp.concatenate([jnp.zeros(N - 1), jnp.ones(1)])\n",
    "    def loop_body(mean_ling_im1, i):\n",
    "        State = i * mean_ling_im1\n",
    "        probs = lins * State # weight the probs with size (Durett forward split)\n",
    "        probs /= jnp.sum(probs)\n",
    "        State += jnp.matmul(probs, P)      \n",
    "        State = jax.ops.index_update(State, jax.ops.index[-i], 0)\n",
    "        return (State / (i + 1),) * 2\n",
    "\n",
    "    _, mean_ling = lax.scan(loop_body, mean_ling, jnp.arange(1, N))\n",
    "    \n",
    "    return mean_ling[:,:-1]"
   ]
  },
  {
   "cell_type": "code",
   "execution_count": 2,
   "metadata": {},
   "outputs": [],
   "source": [
    "def get_P(n, beta):\n",
    "    # Probability matrix for size based beta-binom (aldous)\n",
    "    P = np.zeros((n-1, n-1))\n",
    "    for i in range(2, n+1):\n",
    "        P[i-2, :(i-1)] = get_pmf(i, beta)\n",
    "\n",
    "    return P\n",
    "\n",
    "def sim_vard(P):\n",
    "    # topology simulator\n",
    "    n = P.shape[0]+1       \n",
    "\n",
    "    splits = np.zeros((n-1, 2))\n",
    "        \n",
    "    l = np.arange(n)\n",
    "    S = np.zeros(n)\n",
    "    S[n-1] = 1\n",
    "    pos_splits = np.arange(1, n)\n",
    "    \n",
    "    vardks = []\n",
    "    avgvar = 0\n",
    "    for i in l[:-1]:\n",
    "        probs = S*l\n",
    "        selected_lin = np.random.choice(l, 1, p = probs/probs.sum())[0]\n",
    "\n",
    "        split = np.random.choice(pos_splits[:(selected_lin)], 1, p = P[selected_lin-1,:(selected_lin)])[0]\n",
    "        k1, k2 = split, selected_lin+1-split\n",
    "        S[k1-1] += 1\n",
    "        S[k2-1] += 1\n",
    "        S[selected_lin] = S[selected_lin] - 1\n",
    "                \n",
    "        var_dk = np.var(np.repeat(l[1:], S[:-1].astype('int')))\n",
    "        avgvar += var_dk/(i+1)\n",
    "        vardks.append(var_dk)\n",
    "        splits[i, :] = [k1,k2]\n",
    "     \n",
    "    #return vardks\n",
    "    return avgvar/H(n-1)\n",
    "    #return ret[1:,:-1].astype('int')\n",
    "    \n",
    "def sim_bl(N):\n",
    "    # branch length simulator\n",
    "    ts = msp.simulate(N)\n",
    "    tree = ts.first()\n",
    "    bls = np.array([tree.time(i) for i in tree.nodes(order = 'timedesc') if tree.is_internal(i)]+[0])\n",
    "    bls = bls[:-1]-bls[1:]\n",
    "    return bls\n",
    "\n",
    "def get_ET(vard, t, a, b, g):\n",
    "    # get eq17 in Feretti\n",
    "    n = len(t)+1\n",
    "    k = np.arange(2, n+1)\n",
    "    l = sum(t*k)\n",
    "    \n",
    "    ftl = 1 # ?\n",
    "    return ftl*( a*vard + ((t/l)*(a*(n**2)/k+b*n+g*k)).sum())"
   ]
  },
  {
   "cell_type": "code",
   "execution_count": 6,
   "metadata": {},
   "outputs": [],
   "source": [
    "N = 100\n",
    "k = np.arange(2, N+1)\n",
    "an = H(N-1)\n",
    "\n",
    "betas = np.linspace(-4, 4, 21)\n",
    "nit = 2500"
   ]
  },
  {
   "cell_type": "markdown",
   "metadata": {},
   "source": [
    "### Tajima's D"
   ]
  },
  {
   "cell_type": "code",
   "execution_count": 7,
   "metadata": {},
   "outputs": [
    {
     "data": {
      "application/vnd.jupyter.widget-view+json": {
       "model_id": "27ee35fe59d245568029d183b9a146a9",
       "version_major": 2,
       "version_minor": 0
      },
      "text/plain": [
       "HBox(children=(FloatProgress(value=0.0, max=21.0), HTML(value='')))"
      ]
     },
     "metadata": {},
     "output_type": "display_data"
    },
    {
     "name": "stderr",
     "output_type": "stream",
     "text": [
      "<ipython-input-1-9f16b170fad1>:85: RuntimeWarning: invalid value encountered in log\n",
      "  norm = jnp.where(beta>1, np.log(-2**(-2 - 2*beta)*(np.sqrt(np.pi))/(np.sin((beta+n)*np.pi)))+\n"
     ]
    },
    {
     "name": "stdout",
     "output_type": "stream",
     "text": [
      "\n"
     ]
    }
   ],
   "source": [
    "a = -2/(N*(N-1))\n",
    "b = 2/(N-1)\n",
    "g = -1/an\n",
    "\n",
    "Ds = {}\n",
    "for beta in tqdm(betas):\n",
    "    P = get_P(N, beta)\n",
    "\n",
    "    Ds[beta] = [get_ET(sim_vard(P), sim_bl(N), a, b, g) for _ in range(nit)]    "
   ]
  },
  {
   "cell_type": "code",
   "execution_count": 11,
   "metadata": {},
   "outputs": [],
   "source": [
    "dfD = pd.DataFrame({'beta': np.round(np.repeat(betas, nit),2), 'D':np.array(list(Ds.values())).flatten()})"
   ]
  },
  {
   "cell_type": "code",
   "execution_count": 10,
   "metadata": {},
   "outputs": [],
   "source": [
    "vardkm2 = (k-1)*(N/k-1)**2\n",
    "vardm2 = sum(vardkm2/(k-1))/an\n",
    "\n",
    "vardinf = N/4\n",
    "\n",
    "Dlims = {}\n",
    "Dlims['-inf'] = [get_ET(vardm2, sim_bl(N), a, b, g) for _ in range(10000)]\n",
    "Dlims['inf'] = [get_ET(vardinf, sim_bl(N), a, b, g) for _ in range(10000)]"
   ]
  },
  {
   "cell_type": "markdown",
   "metadata": {},
   "source": [
    "### Fay H"
   ]
  },
  {
   "cell_type": "code",
   "execution_count": 12,
   "metadata": {},
   "outputs": [
    {
     "data": {
      "application/vnd.jupyter.widget-view+json": {
       "model_id": "0a2d38844c6846f3b932f518382b29e2",
       "version_major": 2,
       "version_minor": 0
      },
      "text/plain": [
       "HBox(children=(FloatProgress(value=0.0, max=21.0), HTML(value='')))"
      ]
     },
     "metadata": {},
     "output_type": "display_data"
    },
    {
     "name": "stderr",
     "output_type": "stream",
     "text": [
      "<ipython-input-1-9f16b170fad1>:85: RuntimeWarning: invalid value encountered in log\n",
      "  norm = jnp.where(beta>1, np.log(-2**(-2 - 2*beta)*(np.sqrt(np.pi))/(np.sin((beta+n)*np.pi)))+\n"
     ]
    },
    {
     "name": "stdout",
     "output_type": "stream",
     "text": [
      "\n"
     ]
    }
   ],
   "source": [
    "a = -4/(N*(N-1))\n",
    "b = 2/(N-1)\n",
    "g = 0\n",
    "\n",
    "Hs = {}\n",
    "for beta in tqdm(betas):\n",
    "    P = get_P(N, beta)\n",
    "\n",
    "    Hs[beta] = [get_ET(sim_vard(P), sim_bl(N), a, b, g) for _ in range(nit)]    "
   ]
  },
  {
   "cell_type": "code",
   "execution_count": 14,
   "metadata": {},
   "outputs": [],
   "source": [
    "dfH = pd.DataFrame({'beta': np.round(np.repeat(betas, nit),2), 'D':np.array(list(Hs.values())).flatten()})"
   ]
  },
  {
   "cell_type": "code",
   "execution_count": 15,
   "metadata": {},
   "outputs": [],
   "source": [
    "Hlims = {}\n",
    "Hlims['-inf'] = [get_ET(vardm2, sim_bl(N), a, b, g) for _ in range(10000)]\n",
    "Hlims['inf'] = [get_ET(vardinf, sim_bl(N), a, b, g) for _ in range(10000)]"
   ]
  },
  {
   "cell_type": "code",
   "execution_count": 35,
   "metadata": {},
   "outputs": [
    {
     "data": {
      "image/png": "[encoded data removed]",
      "text/plain": [
       "<Figure size 1000x700 with 2 Axes>"
      ]
     },
     "metadata": {},
     "output_type": "display_data"
    }
   ],
   "source": [
    "fig, ax = plt.subplots(2,1,figsize = (10,7), sharex = True)\n",
    "\n",
    "sns.boxplot(data=dfD, x='beta', y='D', \n",
    "            showfliers=False, color = 'white', ax=ax[0])\n",
    "\n",
    "ax[0].axhline(np.mean(Dlims['-inf']), color = 'red', linestyle = '-.')\n",
    "ax[0].axhline(np.mean(Dlims['inf']), color = 'red', linestyle = '-.')\n",
    "ax[0].set_xlabel(None)\n",
    "ax[0].set_ylabel(r\"Tajima's $D$\",size = 15)\n",
    "\n",
    "sns.boxplot(data=dfH, x='beta', y='D', \n",
    "            showfliers=False, color = 'white', ax=ax[1])\n",
    "\n",
    "ax[1].axhline(np.mean(Hlims['-inf']), color = 'red', linestyle = '-.')\n",
    "ax[1].axhline(np.mean(Hlims['inf']), color = 'red', linestyle = '-.')\n",
    "ax[1].set_ylabel(r\"Fay and Wu's $H$\",size = 15)\n",
    "ax[1].set_xlabel(r'$log(\\beta/2+1)$', size = 15)\n",
    "plt.tight_layout()\n",
    "plt.savefig('plots/sampledNTs.jpg', dpi = 300)"
   ]
  }
 ],
 "metadata": {
  "kernelspec": {
   "display_name": "Python 3",
   "language": "python",
   "name": "python3"
  },
  "language_info": {
   "codemirror_mode": {
    "name": "ipython",
    "version": 3
   },
   "file_extension": ".py",
   "mimetype": "text/x-python",
   "name": "python",
   "nbconvert_exporter": "python",
   "pygments_lexer": "ipython3",
   "version": "3.8.3"
  }
 },
 "nbformat": 4,
 "nbformat_minor": 4
}
