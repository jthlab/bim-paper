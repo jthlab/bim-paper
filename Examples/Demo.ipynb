{
 "cells": [
  {
   "cell_type": "markdown",
   "metadata": {},
   "source": [
    "Pipeline of our model:\n",
    "<br><img src=\"plots/demo.png\" width=\"500\"><br>"
   ]
  },
  {
   "cell_type": "code",
   "execution_count": 1,
   "metadata": {},
   "outputs": [],
   "source": [
    "import numpy as np\n",
    "from IPython.display import SVG, display\n",
    "\n",
    "import sys\n",
    "sys.path.append('/home/enes/bim/')# you should have this package on the sys.path\n",
    "\n",
    "from utils import segsites_to_trees"
   ]
  },
  {
   "cell_type": "code",
   "execution_count": 2,
   "metadata": {},
   "outputs": [],
   "source": [
    "from Bimbalance import bSFS, bTree"
   ]
  },
  {
   "cell_type": "code",
   "execution_count": 3,
   "metadata": {},
   "outputs": [],
   "source": [
    "# genotype matrix:\n",
    "GM = np.array([[1, 0, 0, 1, 1, 1, 0],\n",
    "               [1, 0, 0, 1, 1, 1, 1],\n",
    "               [1, 0, 0, 1, 1, 0, 0],\n",
    "               [0, 1, 1, 1, 0, 0, 0],\n",
    "               [0, 1, 0, 0, 0, 0, 0]]).T\n",
    "# 7 sites for 5 individuals\n",
    "N = GM.shape[1]\n",
    "L = GM.shape[0]"
   ]
  },
  {
   "cell_type": "markdown",
   "metadata": {},
   "source": [
    "## Method 1: Infer  $\\beta$-splitting by SFS"
   ]
  },
  {
   "cell_type": "code",
   "execution_count": 4,
   "metadata": {},
   "outputs": [
    {
     "name": "stderr",
     "output_type": "stream",
     "text": [
      "WARNING:absl:No GPU/TPU found, falling back to CPU. (Set TF_CPP_MIN_LOG_LEVEL=0 and rerun for more info.)\n"
     ]
    }
   ],
   "source": [
    "bsfs = bSFS(N, rho1 = 0.01, rho2 = 0.01) # load the object for penalized MLE"
   ]
  },
  {
   "cell_type": "code",
   "execution_count": 5,
   "metadata": {},
   "outputs": [],
   "source": [
    "sfs = bsfs.segsites_to_SFS(GM) # Genotype Matrix -> sfs\n",
    "betasfs_out = bsfs.predict(sfs) # this is where the optimization happens"
   ]
  },
  {
   "cell_type": "code",
   "execution_count": 6,
   "metadata": {},
   "outputs": [
    {
     "data": {
      "text/plain": [
       "     fun: 2.5188829689045167\n",
       "     jac: array([-1.10539251e-05])\n",
       " message: 'Optimization terminated successfully.'\n",
       "    nfev: 6\n",
       "     nit: 6\n",
       "    njev: 6\n",
       "  status: 0\n",
       " success: True\n",
       "       x: array([0.70801823])"
      ]
     },
     "execution_count": 6,
     "metadata": {},
     "output_type": "execute_result"
    }
   ],
   "source": [
    "betasfs_out"
   ]
  },
  {
   "cell_type": "markdown",
   "metadata": {},
   "source": [
    "## Method 2: Infer  $\\beta$-splitting by tree split sizes"
   ]
  },
  {
   "cell_type": "code",
   "execution_count": 7,
   "metadata": {},
   "outputs": [],
   "source": [
    "inferred_ts = segsites_to_trees(GM) # infer trees from genotype matrix by tsinfer"
   ]
  },
  {
   "cell_type": "code",
   "execution_count": 8,
   "metadata": {},
   "outputs": [
    {
     "data": {
      "image/svg+xml": [
       "<svg xmlns=\"http://www.w3.org/2000/svg\" xmlns:ev=\"http://www.w3.org/2001/xml-events\" xmlns:xlink=\"http://www.w3.org/1999/xlink\" baseProfile=\"full\" height=\"400\" version=\"1.1\" width=\"800\"><defs><style type=\"text/css\"><![CDATA[.axis {font-weight: bold}.tree, .axis {font-size: 14px; text-anchor:middle}.edge {stroke: black; fill: none}.node > .sym {fill: black; stroke: none}.tree text {dominant-baseline: middle}.tree .lab.lft {text-anchor: end}.tree .lab.rgt {text-anchor: start}.mut {fill: red; font-style: italic}]]></style></defs><g class=\"tree-sequence\"><g class=\"background\"><polygon fill=\"#F1F1F1\" points=\"20,385 20,380 20,360 20,0 400.0,0 400.0,360 345.714,380 345.714,385\"/></g><g class=\"trees\"><g class=\"treebox t0\" transform=\"translate(20 30)\"><g class=\"tree t0\"><g class=\"node n8 root\" transform=\"translate(212.5 185.556)\"><g class=\"a8 m1 node n5 s1\" transform=\"translate(67.5 62.2222)\"><g class=\"a5 i3 leaf m2 node n3 s2 sample\" transform=\"translate(-30.0 62.2222)\"><path class=\"edge\" d=\"M 0 0 V -62.2222 H 30.0\"/><circle class=\"sym\" cx=\"0\" cy=\"0\" r=\"3\"/><text class=\"lab\" transform=\"translate(0 12)\">3</text><g class=\"mut m2 s2\" transform=\"translate(0 -31.1111)\"><rect class=\"sym\" height=\"6\" transform=\"translate(-3 -3)\" width=\"6\" x=\"0\" y=\"0\"/><text class=\"lab lft\" transform=\"translate(-5 0)\">2</text></g></g><g class=\"a5 i4 leaf node n4 sample\" transform=\"translate(30.0 62.2222)\"><path class=\"edge\" d=\"M 0 0 V -62.2222 H -30.0\"/><circle class=\"sym\" cx=\"0\" cy=\"0\" r=\"3\"/><text class=\"lab\" transform=\"translate(0 12)\">4</text></g><path class=\"edge\" d=\"M 0 0 V -62.2222 H -67.5\"/><circle class=\"sym\" cx=\"0\" cy=\"0\" r=\"3\"/><text class=\"lab rgt\" transform=\"translate(3 -6)\">5</text><g class=\"mut m1 s1\" transform=\"translate(0 -31.1111)\"><rect class=\"sym\" height=\"6\" transform=\"translate(-3 -3)\" width=\"6\" x=\"0\" y=\"0\"/><text class=\"lab rgt\" transform=\"translate(5 0)\">1</text></g></g><g class=\"a8 m0 node n7 s0\" transform=\"translate(-67.5 31.1111)\"><g class=\"a7 i2 leaf node n2 sample\" transform=\"translate(45.0 93.3333)\"><path class=\"edge\" d=\"M 0 0 V -93.3333 H -45.0\"/><circle class=\"sym\" cx=\"0\" cy=\"0\" r=\"3\"/><text class=\"lab\" transform=\"translate(0 12)\">2</text></g><g class=\"a7 node n6\" transform=\"translate(-45.0 31.1111)\"><g class=\"a6 i0 leaf node n0 sample\" transform=\"translate(-30.0 62.2222)\"><path class=\"edge\" d=\"M 0 0 V -62.2222 H 30.0\"/><circle class=\"sym\" cx=\"0\" cy=\"0\" r=\"3\"/><text class=\"lab\" transform=\"translate(0 12)\">0</text></g><g class=\"a6 i1 leaf node n1 sample\" transform=\"translate(30.0 62.2222)\"><path class=\"edge\" d=\"M 0 0 V -62.2222 H -30.0\"/><circle class=\"sym\" cx=\"0\" cy=\"0\" r=\"3\"/><text class=\"lab\" transform=\"translate(0 12)\">1</text></g><path class=\"edge\" d=\"M 0 0 V -31.1111 H 45.0\"/><circle class=\"sym\" cx=\"0\" cy=\"0\" r=\"3\"/><text class=\"lab lft\" transform=\"translate(-3 -6)\">6</text></g><path class=\"edge\" d=\"M 0 0 V -31.1111 H 67.5\"/><circle class=\"sym\" cx=\"0\" cy=\"0\" r=\"3\"/><text class=\"lab lft\" transform=\"translate(-3 -6)\">7</text><g class=\"mut m0 s0\" transform=\"translate(0 -15.5556)\"><rect class=\"sym\" height=\"6\" transform=\"translate(-3 -3)\" width=\"6\" x=\"0\" y=\"0\"/><text class=\"lab lft\" transform=\"translate(-5 0)\">0</text></g></g><circle class=\"sym\" cx=\"0\" cy=\"0\" r=\"3\"/><text class=\"lab\" transform=\"translate(0 -10)\">8</text></g></g></g><g class=\"treebox t1\" transform=\"translate(400.0 30)\"><g class=\"tree t1\"><g class=\"node n9 root\" transform=\"translate(253.75 30.0)\"><g class=\"a9 i4 leaf node n4 sample\" transform=\"translate(56.25 280.0)\"><path class=\"edge\" d=\"M 0 0 V -280.0 H -56.25\"/><circle class=\"sym\" cx=\"0\" cy=\"0\" r=\"3\"/><text class=\"lab\" transform=\"translate(0 12)\">4</text></g><g class=\"a9 m3 node n8 s3\" transform=\"translate(-56.25 155.556)\"><g class=\"a8 m4 node n7 s4\" transform=\"translate(-52.5 31.1111)\"><g class=\"a7 i2 leaf node n2 sample\" transform=\"translate(45.0 93.3333)\"><path class=\"edge\" d=\"M 0 0 V -93.3333 H -45.0\"/><circle class=\"sym\" cx=\"0\" cy=\"0\" r=\"3\"/><text class=\"lab\" transform=\"translate(0 12)\">2</text></g><g class=\"a7 m5 node n6 s5\" transform=\"translate(-45.0 31.1111)\"><g class=\"a6 i0 leaf node n0 sample\" transform=\"translate(-30.0 62.2222)\"><path class=\"edge\" d=\"M 0 0 V -62.2222 H 30.0\"/><circle class=\"sym\" cx=\"0\" cy=\"0\" r=\"3\"/><text class=\"lab\" transform=\"translate(0 12)\">0</text></g><g class=\"a6 i1 leaf m6 node n1 s6 sample\" transform=\"translate(30.0 62.2222)\"><path class=\"edge\" d=\"M 0 0 V -62.2222 H -30.0\"/><circle class=\"sym\" cx=\"0\" cy=\"0\" r=\"3\"/><text class=\"lab\" transform=\"translate(0 12)\">1</text><g class=\"mut m6 s6\" transform=\"translate(0 -31.1111)\"><rect class=\"sym\" height=\"6\" transform=\"translate(-3 -3)\" width=\"6\" x=\"0\" y=\"0\"/><text class=\"lab rgt\" transform=\"translate(5 0)\">6</text></g></g><path class=\"edge\" d=\"M 0 0 V -31.1111 H 45.0\"/><circle class=\"sym\" cx=\"0\" cy=\"0\" r=\"3\"/><text class=\"lab lft\" transform=\"translate(-3 -6)\">6</text><g class=\"mut m5 s5\" transform=\"translate(0 -15.5556)\"><rect class=\"sym\" height=\"6\" transform=\"translate(-3 -3)\" width=\"6\" x=\"0\" y=\"0\"/><text class=\"lab lft\" transform=\"translate(-5 0)\">5</text></g></g><path class=\"edge\" d=\"M 0 0 V -31.1111 H 52.5\"/><circle class=\"sym\" cx=\"0\" cy=\"0\" r=\"3\"/><text class=\"lab lft\" transform=\"translate(-3 -6)\">7</text><g class=\"mut m4 s4\" transform=\"translate(0 -15.5556)\"><rect class=\"sym\" height=\"6\" transform=\"translate(-3 -3)\" width=\"6\" x=\"0\" y=\"0\"/><text class=\"lab lft\" transform=\"translate(-5 0)\">4</text></g></g><g class=\"a8 i3 leaf node n3 sample\" transform=\"translate(52.5 124.444)\"><path class=\"edge\" d=\"M 0 0 V -124.444 H -52.5\"/><circle class=\"sym\" cx=\"0\" cy=\"0\" r=\"3\"/><text class=\"lab\" transform=\"translate(0 12)\">3</text></g><path class=\"edge\" d=\"M 0 0 V -155.556 H 56.25\"/><circle class=\"sym\" cx=\"0\" cy=\"0\" r=\"3\"/><text class=\"lab lft\" transform=\"translate(-3 -6)\">8</text><g class=\"mut m3 s3\" transform=\"translate(0 -77.7778)\"><rect class=\"sym\" height=\"6\" transform=\"translate(-3 -3)\" width=\"6\" x=\"0\" y=\"0\"/><text class=\"lab lft\" transform=\"translate(-5 0)\">3</text></g></g><circle class=\"sym\" cx=\"0\" cy=\"0\" r=\"3\"/><text class=\"lab\" transform=\"translate(0 -10)\">9</text></g></g></g></g><g class=\"axis\"><line stroke=\"black\" x1=\"20\" x2=\"780\" y1=\"380\" y2=\"380\"/><line stroke=\"black\" x1=\"20\" x2=\"20\" y1=\"380\" y2=\"385\"/><g transform=\"translate(20, 400)\"><text font-size=\"14\" font-weight=\"bold\" text-anchor=\"middle\">0</text></g><line stroke=\"black\" x1=\"345.714\" x2=\"345.714\" y1=\"380\" y2=\"385\"/><g transform=\"translate(345.714, 400)\"><text font-size=\"14\" font-weight=\"bold\" text-anchor=\"middle\">3</text></g><line stroke=\"black\" x1=\"780.0\" x2=\"780.0\" y1=\"380\" y2=\"385\"/><g transform=\"translate(780.0, 400)\"><text font-size=\"14\" font-weight=\"bold\" text-anchor=\"middle\">7</text></g></g></g></svg>"
      ],
      "text/plain": [
       "<IPython.core.display.SVG object>"
      ]
     },
     "execution_count": 8,
     "metadata": {},
     "output_type": "execute_result"
    }
   ],
   "source": [
    "SVG(inferred_ts.draw_svg(size=(800, 400)))"
   ]
  },
  {
   "cell_type": "code",
   "execution_count": 9,
   "metadata": {},
   "outputs": [],
   "source": [
    "btree = bTree(N, rho1 = 0.005, rho2 = 0.005) # load the object for penalized MLE"
   ]
  },
  {
   "cell_type": "code",
   "execution_count": 10,
   "metadata": {},
   "outputs": [
    {
     "name": "stdout",
     "output_type": "stream",
     "text": [
      "Interval(left=0.0, right=3.0)\n",
      "     fun: 0.48701185253075774\n",
      "     jac: array([1.09741211e-05])\n",
      " message: 'Optimization terminated successfully.'\n",
      "    nfev: 7\n",
      "     nit: 6\n",
      "    njev: 6\n",
      "  status: 0\n",
      " success: True\n",
      "       x: array([2.07565359])\n",
      "----------------------------------------\n",
      "Interval(left=3.0, right=7.0)\n",
      "     fun: 0.7596626274584588\n",
      "     jac: array([1.03469797e-05])\n",
      " message: 'Optimization terminated successfully.'\n",
      "    nfev: 7\n",
      "     nit: 7\n",
      "    njev: 7\n",
      "  status: 0\n",
      " success: True\n",
      "       x: array([-1.81183916])\n",
      "----------------------------------------\n",
      "\n",
      "weighted avarage for the region is =  -0.14577083689387774\n"
     ]
    }
   ],
   "source": [
    "t = 0\n",
    "for tree in inferred_ts.trees():\n",
    "    print(tree.interval)\n",
    "    out = btree.split_predict(tree) # this is where the optimization happens\n",
    "    print(out)    \n",
    "    left, right = tree.interval\n",
    "    t += (right-left)*out.x[0]\n",
    "    print(20*'--')\n",
    "print('\\nweighted avarage for the region is = ', t/inferred_ts.get_sequence_length())    "
   ]
  }
 ],
 "metadata": {
  "kernelspec": {
   "display_name": "Python 3",
   "language": "python",
   "name": "python3"
  },
  "language_info": {
   "codemirror_mode": {
    "name": "ipython",
    "version": 3
   },
   "file_extension": ".py",
   "mimetype": "text/x-python",
   "name": "python",
   "nbconvert_exporter": "python",
   "pygments_lexer": "ipython3",
   "version": "3.8.3"
  }
 },
 "nbformat": 4,
 "nbformat_minor": 4
}
